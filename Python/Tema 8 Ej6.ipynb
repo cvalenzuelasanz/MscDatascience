{
 "cells": [
  {
   "cell_type": "markdown",
   "metadata": {},
   "source": [
    "# Ejercicios "
   ]
  },
  {
   "cell_type": "markdown",
   "metadata": {},
   "source": [
    "#### 1 Ejercicio"
   ]
  },
  {
   "cell_type": "markdown",
   "metadata": {},
   "source": [
    "El fichero [tips.txt](./datos/tips.txt) recoge los datos asociados a las reservas de un restaurante durante un periodo de tiempo. Muestra los datos de 6 variables numéricas:\n",
    "\n",
    "* El precio de la factura, \n",
    "* La propina asociada a la factura, \n",
    "* El sexo de la persona que hizo la reserva (1=Hombre, 2=Mujer),\n",
    "* Si es una reserva para fumadores o no (0 = No Fumadores, 1 = Fumadores),\n",
    "* El día de la semana (1 = Lunes, ... , 7 = Domingo),\n",
    "* El número de comensales.\n",
    "\n",
    "Haz una pequeña exploración de los datos del fichero. Observa que el separador de datos es el símbolo coma(,).\n",
    "\n",
    "Realiza la carga de los datos con la función __loadtxt__ del módulo __NumPy__. El array devuelto por __loadtxt__ se llamará __tips__."
   ]
  },
  {
   "cell_type": "code",
   "execution_count": 19,
   "metadata": {
    "collapsed": true
   },
   "outputs": [],
   "source": [
    "# Imports necesarios\n",
    "import pandas as pd                        # importación de pandas\n",
    "import numpy as np                         # importación de numpy\n",
    "import matplotlib as mpl                   # importación de matplotlib con alias mpl\n",
    "import matplotlib.pyplot as plt\n",
    "%matplotlib inline"
   ]
  },
  {
   "cell_type": "code",
   "execution_count": 20,
   "metadata": {
    "collapsed": true
   },
   "outputs": [],
   "source": [
    "np.loadtxt?"
   ]
  },
  {
   "cell_type": "code",
   "execution_count": 91,
   "metadata": {},
   "outputs": [
    {
     "data": {
      "text/plain": [
       "array([( 16.99,   1.01,  2.,  0.,  7.,  2.),\n",
       "       ( 10.34,   1.66,  1.,  0.,  7.,  3.),\n",
       "       ( 21.01,   3.5 ,  1.,  0.,  7.,  3.),\n",
       "       ( 23.68,   3.31,  1.,  0.,  7.,  2.),\n",
       "       ( 24.59,   3.61,  2.,  0.,  7.,  4.),\n",
       "       ( 25.29,   4.71,  1.,  0.,  7.,  4.),\n",
       "       (  8.77,   2.  ,  1.,  0.,  7.,  2.),\n",
       "       ( 26.88,   3.12,  1.,  0.,  7.,  4.),\n",
       "       ( 15.04,   1.96,  1.,  0.,  7.,  2.),\n",
       "       ( 14.78,   3.23,  1.,  0.,  7.,  2.),\n",
       "       ( 10.27,   1.71,  1.,  0.,  7.,  2.),\n",
       "       ( 35.26,   5.  ,  2.,  0.,  7.,  4.),\n",
       "       ( 15.42,   1.57,  1.,  0.,  7.,  2.),\n",
       "       ( 18.43,   3.  ,  1.,  0.,  7.,  4.),\n",
       "       ( 14.83,   3.02,  2.,  0.,  7.,  2.),\n",
       "       ( 21.58,   3.92,  1.,  0.,  7.,  2.),\n",
       "       ( 10.33,   1.67,  2.,  0.,  7.,  3.),\n",
       "       ( 16.29,   3.71,  1.,  0.,  7.,  3.),\n",
       "       ( 16.97,   3.5 ,  2.,  0.,  7.,  3.),\n",
       "       ( 20.65,   3.35,  1.,  0.,  6.,  3.),\n",
       "       ( 17.92,   4.08,  1.,  0.,  6.,  2.),\n",
       "       ( 20.29,   2.75,  2.,  0.,  6.,  2.),\n",
       "       ( 15.77,   2.23,  2.,  0.,  6.,  2.),\n",
       "       ( 39.42,   7.58,  1.,  0.,  6.,  4.),\n",
       "       ( 19.82,   3.18,  1.,  0.,  6.,  2.),\n",
       "       ( 17.81,   2.34,  1.,  0.,  6.,  4.),\n",
       "       ( 13.37,   2.  ,  1.,  0.,  6.,  2.),\n",
       "       ( 12.69,   2.  ,  1.,  0.,  6.,  2.),\n",
       "       ( 21.7 ,   4.3 ,  1.,  0.,  6.,  2.),\n",
       "       ( 19.65,   3.  ,  2.,  0.,  6.,  2.),\n",
       "       (  9.55,   1.45,  1.,  0.,  6.,  2.),\n",
       "       ( 18.35,   2.5 ,  1.,  0.,  6.,  4.),\n",
       "       ( 15.06,   3.  ,  2.,  0.,  6.,  2.),\n",
       "       ( 20.69,   2.45,  2.,  0.,  6.,  4.),\n",
       "       ( 17.78,   3.27,  1.,  0.,  6.,  2.),\n",
       "       ( 24.06,   3.6 ,  1.,  0.,  6.,  3.),\n",
       "       ( 16.31,   2.  ,  1.,  0.,  6.,  3.),\n",
       "       ( 16.93,   3.07,  2.,  0.,  6.,  3.),\n",
       "       ( 18.69,   2.31,  1.,  0.,  6.,  3.),\n",
       "       ( 31.27,   5.  ,  1.,  0.,  6.,  3.),\n",
       "       ( 16.04,   2.24,  1.,  0.,  6.,  3.),\n",
       "       ( 17.46,   2.54,  1.,  0.,  7.,  2.),\n",
       "       ( 13.94,   3.06,  1.,  0.,  7.,  2.),\n",
       "       (  9.68,   1.32,  1.,  0.,  7.,  2.),\n",
       "       ( 30.4 ,   5.6 ,  1.,  0.,  7.,  4.),\n",
       "       ( 18.29,   3.  ,  1.,  0.,  7.,  2.),\n",
       "       ( 22.23,   5.  ,  1.,  0.,  7.,  2.),\n",
       "       ( 32.4 ,   6.  ,  1.,  0.,  7.,  4.),\n",
       "       ( 28.55,   2.05,  1.,  0.,  7.,  3.),\n",
       "       ( 18.04,   3.  ,  1.,  0.,  7.,  2.),\n",
       "       ( 12.54,   2.5 ,  1.,  0.,  7.,  2.),\n",
       "       ( 10.29,   2.6 ,  2.,  0.,  7.,  2.),\n",
       "       ( 34.81,   5.2 ,  2.,  0.,  7.,  4.),\n",
       "       (  9.94,   1.56,  1.,  0.,  7.,  2.),\n",
       "       ( 25.56,   4.34,  1.,  0.,  7.,  4.),\n",
       "       ( 19.49,   3.51,  1.,  0.,  7.,  2.),\n",
       "       ( 38.01,   3.  ,  1.,  1.,  6.,  4.),\n",
       "       ( 26.41,   1.5 ,  2.,  0.,  6.,  2.),\n",
       "       ( 11.24,   1.76,  1.,  1.,  6.,  2.),\n",
       "       ( 48.27,   6.73,  1.,  0.,  6.,  4.),\n",
       "       ( 20.29,   3.21,  1.,  1.,  6.,  2.),\n",
       "       ( 13.81,   2.  ,  1.,  1.,  6.,  2.),\n",
       "       ( 11.02,   1.98,  1.,  1.,  6.,  2.),\n",
       "       ( 18.29,   3.76,  1.,  1.,  6.,  4.),\n",
       "       ( 17.59,   2.64,  1.,  0.,  6.,  3.),\n",
       "       ( 20.08,   3.15,  1.,  0.,  6.,  3.),\n",
       "       ( 16.45,   2.47,  2.,  0.,  6.,  2.),\n",
       "       (  3.07,   1.  ,  2.,  1.,  6.,  1.),\n",
       "       ( 20.23,   2.01,  1.,  0.,  6.,  2.),\n",
       "       ( 15.01,   2.09,  1.,  1.,  6.,  2.),\n",
       "       ( 12.02,   1.97,  1.,  0.,  6.,  2.),\n",
       "       ( 17.07,   3.  ,  2.,  0.,  6.,  3.),\n",
       "       ( 26.86,   3.14,  2.,  1.,  6.,  2.),\n",
       "       ( 25.28,   5.  ,  2.,  1.,  6.,  2.),\n",
       "       ( 14.73,   2.2 ,  2.,  0.,  6.,  2.),\n",
       "       ( 10.51,   1.25,  1.,  0.,  6.,  2.),\n",
       "       ( 17.92,   3.08,  1.,  1.,  6.,  2.),\n",
       "       ( 27.2 ,   4.  ,  1.,  0.,  4.,  4.),\n",
       "       ( 22.76,   3.  ,  1.,  0.,  4.,  2.),\n",
       "       ( 17.29,   2.71,  1.,  0.,  4.,  2.),\n",
       "       ( 19.44,   3.  ,  1.,  1.,  4.,  2.),\n",
       "       ( 16.66,   3.4 ,  1.,  0.,  4.,  2.),\n",
       "       ( 10.07,   1.83,  2.,  0.,  4.,  1.),\n",
       "       ( 32.68,   5.  ,  1.,  1.,  4.,  2.),\n",
       "       ( 15.98,   2.03,  1.,  0.,  4.,  2.),\n",
       "       ( 34.83,   5.17,  2.,  0.,  4.,  4.),\n",
       "       ( 13.03,   2.  ,  1.,  0.,  4.,  2.),\n",
       "       ( 18.28,   4.  ,  1.,  0.,  4.,  2.),\n",
       "       ( 24.71,   5.85,  1.,  0.,  4.,  2.),\n",
       "       ( 21.16,   3.  ,  1.,  0.,  4.,  2.),\n",
       "       ( 28.97,   3.  ,  1.,  1.,  5.,  2.),\n",
       "       ( 22.49,   3.5 ,  1.,  0.,  5.,  2.),\n",
       "       (  5.75,   1.  ,  2.,  1.,  5.,  2.),\n",
       "       ( 16.32,   4.3 ,  2.,  1.,  5.,  2.),\n",
       "       ( 22.75,   3.25,  2.,  0.,  5.,  2.),\n",
       "       ( 40.17,   4.73,  1.,  1.,  5.,  4.),\n",
       "       ( 27.28,   4.  ,  1.,  1.,  5.,  2.),\n",
       "       ( 12.03,   1.5 ,  1.,  1.,  5.,  2.),\n",
       "       ( 21.01,   3.  ,  1.,  1.,  5.,  2.),\n",
       "       ( 12.46,   1.5 ,  1.,  0.,  5.,  2.),\n",
       "       ( 11.35,   2.5 ,  2.,  1.,  5.,  2.),\n",
       "       ( 15.38,   3.  ,  2.,  1.,  5.,  2.),\n",
       "       ( 44.3 ,   2.5 ,  2.,  1.,  6.,  3.),\n",
       "       ( 22.42,   3.48,  2.,  1.,  6.,  2.),\n",
       "       ( 20.92,   4.08,  2.,  0.,  6.,  2.),\n",
       "       ( 15.36,   1.64,  1.,  1.,  6.,  2.),\n",
       "       ( 20.49,   4.06,  1.,  1.,  6.,  2.),\n",
       "       ( 25.21,   4.29,  1.,  1.,  6.,  2.),\n",
       "       ( 18.24,   3.76,  1.,  0.,  6.,  2.),\n",
       "       ( 14.31,   4.  ,  2.,  1.,  6.,  2.),\n",
       "       ( 14.  ,   3.  ,  1.,  0.,  6.,  2.),\n",
       "       (  7.25,   1.  ,  2.,  0.,  6.,  1.),\n",
       "       ( 38.07,   4.  ,  1.,  0.,  7.,  3.),\n",
       "       ( 23.95,   2.55,  1.,  0.,  7.,  2.),\n",
       "       ( 25.71,   4.  ,  2.,  0.,  7.,  3.),\n",
       "       ( 17.31,   3.5 ,  2.,  0.,  7.,  2.),\n",
       "       ( 29.93,   5.07,  1.,  0.,  7.,  4.),\n",
       "       ( 10.65,   1.5 ,  2.,  0.,  4.,  2.),\n",
       "       ( 12.43,   1.8 ,  2.,  0.,  4.,  2.),\n",
       "       ( 24.08,   2.92,  2.,  0.,  4.,  4.),\n",
       "       ( 11.69,   2.31,  1.,  0.,  4.,  2.),\n",
       "       ( 13.42,   1.68,  2.,  0.,  4.,  2.),\n",
       "       ( 14.26,   2.5 ,  1.,  0.,  4.,  2.),\n",
       "       ( 15.95,   2.  ,  1.,  0.,  4.,  2.),\n",
       "       ( 12.48,   2.52,  2.,  0.,  4.,  2.),\n",
       "       ( 29.8 ,   4.2 ,  2.,  0.,  4.,  6.),\n",
       "       (  8.52,   1.48,  1.,  0.,  4.,  2.),\n",
       "       ( 14.52,   2.  ,  2.,  0.,  4.,  2.),\n",
       "       ( 11.38,   2.  ,  2.,  0.,  4.,  2.),\n",
       "       ( 22.82,   2.18,  1.,  0.,  4.,  3.),\n",
       "       ( 19.08,   1.5 ,  1.,  0.,  4.,  2.),\n",
       "       ( 20.27,   2.83,  2.,  0.,  4.,  2.),\n",
       "       ( 11.17,   1.5 ,  2.,  0.,  4.,  2.),\n",
       "       ( 12.26,   2.  ,  2.,  0.,  4.,  2.),\n",
       "       ( 18.26,   3.25,  2.,  0.,  4.,  2.),\n",
       "       (  8.51,   1.25,  2.,  0.,  4.,  2.),\n",
       "       ( 10.33,   2.  ,  2.,  0.,  4.,  2.),\n",
       "       ( 14.15,   2.  ,  2.,  0.,  4.,  2.),\n",
       "       ( 16.  ,   2.  ,  1.,  1.,  4.,  2.),\n",
       "       ( 13.16,   2.75,  2.,  0.,  4.,  2.),\n",
       "       ( 17.47,   3.5 ,  2.,  0.,  4.,  2.),\n",
       "       ( 34.3 ,   6.7 ,  1.,  0.,  4.,  6.),\n",
       "       ( 41.19,   5.  ,  1.,  0.,  4.,  5.),\n",
       "       ( 27.05,   5.  ,  2.,  0.,  4.,  6.),\n",
       "       ( 16.43,   2.3 ,  2.,  0.,  4.,  2.),\n",
       "       (  8.35,   1.5 ,  2.,  0.,  4.,  2.),\n",
       "       ( 18.64,   1.36,  2.,  0.,  4.,  3.),\n",
       "       ( 11.87,   1.63,  2.,  0.,  4.,  2.),\n",
       "       (  9.78,   1.73,  1.,  0.,  4.,  2.),\n",
       "       (  7.51,   2.  ,  1.,  0.,  4.,  2.),\n",
       "       ( 14.07,   2.5 ,  1.,  0.,  7.,  2.),\n",
       "       ( 13.13,   2.  ,  1.,  0.,  7.,  2.),\n",
       "       ( 17.26,   2.74,  1.,  0.,  7.,  3.),\n",
       "       ( 24.55,   2.  ,  1.,  0.,  7.,  4.),\n",
       "       ( 19.77,   2.  ,  1.,  0.,  7.,  4.),\n",
       "       ( 29.85,   5.14,  2.,  0.,  7.,  5.),\n",
       "       ( 48.17,   5.  ,  1.,  0.,  7.,  6.),\n",
       "       ( 25.  ,   3.75,  2.,  0.,  7.,  4.),\n",
       "       ( 13.39,   2.61,  2.,  0.,  7.,  2.),\n",
       "       ( 16.49,   2.  ,  1.,  0.,  7.,  4.),\n",
       "       ( 21.5 ,   3.5 ,  1.,  0.,  7.,  4.),\n",
       "       ( 12.66,   2.5 ,  1.,  0.,  7.,  2.),\n",
       "       ( 16.21,   2.  ,  2.,  0.,  7.,  3.),\n",
       "       ( 13.81,   2.  ,  1.,  0.,  7.,  2.),\n",
       "       ( 17.51,   3.  ,  2.,  1.,  7.,  2.),\n",
       "       ( 24.52,   3.48,  1.,  0.,  7.,  3.),\n",
       "       ( 20.76,   2.24,  1.,  0.,  7.,  2.),\n",
       "       ( 31.71,   4.5 ,  1.,  0.,  7.,  4.),\n",
       "       ( 10.59,   1.61,  2.,  1.,  6.,  2.),\n",
       "       ( 10.63,   2.  ,  2.,  1.,  6.,  2.),\n",
       "       ( 50.81,  10.  ,  1.,  1.,  6.,  3.),\n",
       "       ( 15.81,   3.16,  1.,  1.,  6.,  2.),\n",
       "       (  7.25,   5.15,  1.,  1.,  7.,  2.),\n",
       "       ( 31.85,   3.18,  1.,  1.,  7.,  2.),\n",
       "       ( 16.82,   4.  ,  1.,  1.,  7.,  2.),\n",
       "       ( 32.9 ,   3.11,  1.,  1.,  7.,  2.),\n",
       "       ( 17.89,   2.  ,  1.,  1.,  7.,  2.),\n",
       "       ( 14.48,   2.  ,  1.,  1.,  7.,  2.),\n",
       "       (  9.6 ,   4.  ,  2.,  1.,  7.,  2.),\n",
       "       ( 34.63,   3.55,  1.,  1.,  7.,  2.),\n",
       "       ( 34.65,   3.68,  1.,  1.,  7.,  4.),\n",
       "       ( 23.33,   5.65,  1.,  1.,  7.,  2.),\n",
       "       ( 45.35,   3.5 ,  1.,  1.,  7.,  3.),\n",
       "       ( 23.17,   6.5 ,  1.,  1.,  7.,  4.),\n",
       "       ( 40.55,   3.  ,  1.,  1.,  7.,  2.),\n",
       "       ( 20.69,   5.  ,  1.,  0.,  7.,  5.),\n",
       "       ( 20.9 ,   3.5 ,  2.,  1.,  7.,  3.),\n",
       "       ( 30.46,   2.  ,  1.,  1.,  7.,  5.),\n",
       "       ( 18.15,   3.5 ,  2.,  1.,  7.,  3.),\n",
       "       ( 23.1 ,   4.  ,  1.,  1.,  7.,  3.),\n",
       "       ( 15.69,   1.5 ,  1.,  1.,  7.,  2.),\n",
       "       ( 19.81,   4.19,  2.,  1.,  4.,  2.),\n",
       "       ( 28.44,   2.56,  1.,  1.,  4.,  2.),\n",
       "       ( 15.48,   2.02,  1.,  1.,  4.,  2.),\n",
       "       ( 16.58,   4.  ,  1.,  1.,  4.,  2.),\n",
       "       (  7.56,   1.44,  1.,  0.,  4.,  2.),\n",
       "       ( 10.34,   2.  ,  1.,  1.,  4.,  2.),\n",
       "       ( 43.11,   5.  ,  2.,  1.,  4.,  4.),\n",
       "       ( 13.  ,   2.  ,  2.,  1.,  4.,  2.),\n",
       "       ( 13.51,   2.  ,  1.,  1.,  4.,  2.),\n",
       "       ( 18.71,   4.  ,  1.,  1.,  4.,  3.),\n",
       "       ( 12.74,   2.01,  2.,  1.,  4.,  2.),\n",
       "       ( 13.  ,   2.  ,  2.,  1.,  4.,  2.),\n",
       "       ( 16.4 ,   2.5 ,  2.,  1.,  4.,  2.),\n",
       "       ( 20.53,   4.  ,  1.,  1.,  4.,  4.),\n",
       "       ( 16.47,   3.23,  2.,  1.,  4.,  3.),\n",
       "       ( 26.59,   3.41,  1.,  1.,  6.,  3.),\n",
       "       ( 38.73,   3.  ,  1.,  1.,  6.,  4.),\n",
       "       ( 24.27,   2.03,  1.,  1.,  6.,  2.),\n",
       "       ( 12.76,   2.23,  2.,  1.,  6.,  2.),\n",
       "       ( 30.06,   2.  ,  1.,  1.,  6.,  3.),\n",
       "       ( 25.89,   5.16,  1.,  1.,  6.,  4.),\n",
       "       ( 48.33,   9.  ,  1.,  0.,  6.,  4.),\n",
       "       ( 13.27,   2.5 ,  2.,  1.,  6.,  2.),\n",
       "       ( 28.17,   6.5 ,  2.,  1.,  6.,  3.),\n",
       "       ( 12.9 ,   1.1 ,  2.,  1.,  6.,  2.),\n",
       "       ( 28.15,   3.  ,  1.,  1.,  6.,  5.),\n",
       "       ( 11.59,   1.5 ,  1.,  1.,  6.,  2.),\n",
       "       (  7.74,   1.44,  1.,  1.,  6.,  2.),\n",
       "       ( 30.14,   3.09,  2.,  1.,  6.,  4.),\n",
       "       ( 12.16,   2.2 ,  1.,  1.,  5.,  2.),\n",
       "       ( 13.42,   3.48,  2.,  1.,  5.,  2.),\n",
       "       (  8.58,   1.92,  1.,  1.,  5.,  1.),\n",
       "       ( 15.98,   3.  ,  2.,  0.,  5.,  3.),\n",
       "       ( 13.42,   1.58,  1.,  1.,  5.,  2.),\n",
       "       ( 16.27,   2.5 ,  2.,  1.,  5.,  2.),\n",
       "       ( 10.09,   2.  ,  2.,  1.,  5.,  2.),\n",
       "       ( 20.45,   3.  ,  1.,  0.,  6.,  4.),\n",
       "       ( 13.28,   2.72,  1.,  0.,  6.,  2.),\n",
       "       ( 22.12,   2.88,  2.,  1.,  6.,  2.),\n",
       "       ( 24.01,   2.  ,  1.,  1.,  6.,  4.),\n",
       "       ( 15.69,   3.  ,  1.,  1.,  6.,  3.),\n",
       "       ( 11.61,   3.39,  1.,  0.,  6.,  2.),\n",
       "       ( 10.77,   1.47,  1.,  0.,  6.,  2.),\n",
       "       ( 15.53,   3.  ,  1.,  1.,  6.,  2.),\n",
       "       ( 10.07,   1.25,  1.,  0.,  6.,  2.),\n",
       "       ( 12.6 ,   1.  ,  1.,  1.,  6.,  2.),\n",
       "       ( 32.83,   1.17,  1.,  1.,  6.,  2.),\n",
       "       ( 35.83,   4.67,  2.,  0.,  6.,  3.),\n",
       "       ( 29.03,   5.92,  1.,  0.,  6.,  3.),\n",
       "       ( 27.18,   2.  ,  2.,  1.,  6.,  2.),\n",
       "       ( 22.67,   2.  ,  1.,  1.,  6.,  2.),\n",
       "       ( 17.82,   1.75,  1.,  0.,  6.,  2.),\n",
       "       ( 18.78,   3.  ,  2.,  0.,  4.,  2.)], \n",
       "      dtype=[('Precio', '<f8'), ('Propina', '<f8'), ('sexo', '<f8'), ('Fumadores', '<f8'), ('Dia', '<f8'), ('numero', '<f8')])"
      ]
     },
     "execution_count": 91,
     "metadata": {},
     "output_type": "execute_result"
    }
   ],
   "source": [
    "tips = np.loadtxt('datos/tips.txt',\n",
    "                dtype = [('Precio','float'),('Propina','float'),('sexo','float'),('Fumadores','float'),('Dia','float'),('numero','float')],\n",
    "                delimiter = ','\n",
    "                 )\n",
    "tips"
   ]
  },
  {
   "cell_type": "markdown",
   "metadata": {},
   "source": [
    "#### 2 Ejercicio\n",
    "\n",
    "- ¿Cuántas filas hemos cargado?\n",
    "- Muestra las 10 primeras filas"
   ]
  },
  {
   "cell_type": "code",
   "execution_count": 5,
   "metadata": {},
   "outputs": [
    {
     "data": {
      "text/plain": [
       "244"
      ]
     },
     "execution_count": 5,
     "metadata": {},
     "output_type": "execute_result"
    }
   ],
   "source": [
    "tips.shape[0]"
   ]
  },
  {
   "cell_type": "code",
   "execution_count": 6,
   "metadata": {},
   "outputs": [
    {
     "data": {
      "text/plain": [
       "array([( 16.99,  1.01,  2.,  0.,  7.,  2.),\n",
       "       ( 10.34,  1.66,  1.,  0.,  7.,  3.),\n",
       "       ( 21.01,  3.5 ,  1.,  0.,  7.,  3.),\n",
       "       ( 23.68,  3.31,  1.,  0.,  7.,  2.),\n",
       "       ( 24.59,  3.61,  2.,  0.,  7.,  4.),\n",
       "       ( 25.29,  4.71,  1.,  0.,  7.,  4.),\n",
       "       (  8.77,  2.  ,  1.,  0.,  7.,  2.),\n",
       "       ( 26.88,  3.12,  1.,  0.,  7.,  4.),\n",
       "       ( 15.04,  1.96,  1.,  0.,  7.,  2.),\n",
       "       ( 14.78,  3.23,  1.,  0.,  7.,  2.)], \n",
       "      dtype=[('Precio', '<f8'), ('Propina', '<f8'), ('sexo', '<f8'), ('Fumadores', '<f8'), ('Dia', '<f8'), ('numero', '<f8')])"
      ]
     },
     "execution_count": 6,
     "metadata": {},
     "output_type": "execute_result"
    }
   ],
   "source": [
    "tips[0:10,]"
   ]
  },
  {
   "cell_type": "markdown",
   "metadata": {},
   "source": [
    "#### 3 Ejercicio\n",
    "\n",
    "- Calcula el importe máximo y mínimo de las facturas. El importe de la factura es la columna que ocupa la posición 0 en el array __tips__.\n",
    "\n",
    "- Representa gráficamente mediante un diagrama de caja los datos correspondientes al importe de la factura. Puedes utilizar la función __boxplot__.\n"
   ]
  },
  {
   "cell_type": "code",
   "execution_count": 7,
   "metadata": {},
   "outputs": [
    {
     "data": {
      "text/plain": [
       "50.810000000000002"
      ]
     },
     "execution_count": 7,
     "metadata": {},
     "output_type": "execute_result"
    }
   ],
   "source": [
    "# Sol importe máximo de la factura\n",
    "tips['Precio'].max()"
   ]
  },
  {
   "cell_type": "code",
   "execution_count": 8,
   "metadata": {},
   "outputs": [
    {
     "data": {
      "text/plain": [
       "3.0699999999999998"
      ]
     },
     "execution_count": 8,
     "metadata": {},
     "output_type": "execute_result"
    }
   ],
   "source": [
    "# Sol importe mínimo de la factura\n",
    "tips['Precio'].min()"
   ]
  },
  {
   "cell_type": "code",
   "execution_count": 98,
   "metadata": {},
   "outputs": [
    {
     "data": {
      "image/png": "[encoded data removed]",
      "text/plain": [
       "<matplotlib.figure.Figure at 0x1fd2e652400>"
      ]
     },
     "metadata": {},
     "output_type": "display_data"
    }
   ],
   "source": [
    "# Sol representación gráfica\n",
    "plt.boxplot(tips['Precio'])\n",
    "plt.title('Importe factura')\n",
    "plt.show()"
   ]
  },
  {
   "cell_type": "markdown",
   "metadata": {},
   "source": [
    "#### 4 Ejercicio\n",
    "\n",
    "a) Representa gráficamente la relación entre el importe de la factura y la propina. Genera un diagrama de dispersión utilizando la función __scatter__.\n",
    "\n"
   ]
  },
  {
   "cell_type": "code",
   "execution_count": 45,
   "metadata": {},
   "outputs": [
    {
     "data": {
      "image/png": "[encoded data removed]",
      "text/plain": [
       "<matplotlib.figure.Figure at 0x1fd2d1fdc18>"
      ]
     },
     "metadata": {},
     "output_type": "display_data"
    }
   ],
   "source": [
    "# Sol a)\n",
    "plt.scatter(tips['Precio'],tips['Propina'],c= 'purple', alpha=0.3)\n",
    "plt.xlabel('Importe factura',fontsize=12)\n",
    "plt.ylabel('Propina',fontsize=12)\n",
    "plt.title('Relación entre factura y propina',fontsize=18, color='darkblue')\n",
    "plt.grid(True)\n",
    "plt.show()"
   ]
  },
  {
   "cell_type": "markdown",
   "metadata": {},
   "source": [
    "b) Representa gráficamente la relación entre el importe de la factura y la propina. Genera un diagrama de dispersión utilizando la función __scatter__. Añade una tercera dimensión que será representada mediante distintos colores. La tercera dimensión se corresponde al sexo. Así podremos ver las facturas de los hombres y las de las mujeres. El sexo se corresponde con la variable en la posición 2 del array __tips__."
   ]
  },
  {
   "cell_type": "code",
   "execution_count": 97,
   "metadata": {},
   "outputs": [
    {
     "data": {
      "image/png": "[encoded data removed]",
      "text/plain": [
       "<matplotlib.figure.Figure at 0x1fd2e680240>"
      ]
     },
     "metadata": {},
     "output_type": "display_data"
    }
   ],
   "source": [
    "# Sol b)\n",
    "colors = tips['sexo']\n",
    "leyenda = 'hombre','mujer'\n",
    "plt.scatter(tips['Precio'],tips['Propina'],c= colors)\n",
    "plt.xlabel('Importe factura',fontsize=12)\n",
    "plt.ylabel('Propina',fontsize=12)\n",
    "plt.title('Relación entre factura y propina',fontsize=18, color='darkblue')\n",
    "plt.grid(True)\n",
    "plt.show()"
   ]
  },
  {
   "cell_type": "markdown",
   "metadata": {},
   "source": [
    "---------------------"
   ]
  }
 ],
 "metadata": {
  "anaconda-cloud": {},
  "kernelspec": {
   "display_name": "Python 3",
   "language": "python",
   "name": "python3"
  },
  "language_info": {
   "codemirror_mode": {
    "name": "ipython",
    "version": 3
   },
   "file_extension": ".py",
   "mimetype": "text/x-python",
   "name": "python",
   "nbconvert_exporter": "python",
   "pygments_lexer": "ipython3",
   "version": "3.6.1"
  },
  "toc": {
   "colors": {
    "hover_highlight": "#DAA520",
    "running_highlight": "#FF0000",
    "selected_highlight": "#FFD700"
   },
   "moveMenuLeft": true,
   "nav_menu": {
    "height": "105px",
    "width": "252px"
   },
   "navigate_menu": true,
   "number_sections": true,
   "sideBar": true,
   "threshold": 4,
   "toc_cell": false,
   "toc_section_display": "block",
   "toc_window_display": false,
   "widenNotebook": false
  }
 },
 "nbformat": 4,
 "nbformat_minor": 1
}
